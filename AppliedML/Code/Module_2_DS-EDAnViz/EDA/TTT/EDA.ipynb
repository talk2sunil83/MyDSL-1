version https://git-lfs.github.com/spec/v1
oid sha256:2557ab00c4a1f335db54d737a8a817926366d5c1eb35eb2d1be3172d57986ca3
size 294662
